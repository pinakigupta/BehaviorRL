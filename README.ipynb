{
 "cells": [
  {
   "cell_type": "markdown",
   "metadata": {},
   "source": [
    "# Reinforcement Learning based Autonomous Driving (AD)\n",
    "\n",
    "\n",
    "## Introduction\n",
    "\n",
    "Reinforcement Learning Baselines (from OpenAI) applied to Autonomous Driving\n",
    "\n",
    "This Research is aiming to address RL approaches to solve Urban driving scenarios such as (but not limited ): Roundabout, Merging, Urban/Street navigation, Two way navigation (pass over the opposite direction lane), self parking, etc...\n",
    "\n",
    "The objective is to compare performances of well known RL algorithms (from Open AI baselines) in these environments and use these results as a foundation for further studies of the potencial use of RL for AD at production level.\n",
    "\n",
    "The research will also address the differences (advantages and disadvantages) between Continuous and Discrete Action Spaces. \n",
    "\n",
    "The Original version of these environments were created by **Edouard Leurent** and can be found in https://github.com/eleurent/highway-env\n",
    "\n",
    "The agents are not primed yet but getting better. Here is one sample from a challenging two-way environment, where the HV has to negotiate same direction as well as oncoming traffic. In addition\n",
    "to the moving traffic there are parked cars in both lanes. \n",
    "\n",
    "![](img/PPO2.gif)\n",
    "\n",
    "Latest update is I am trying to use previously trained agents to simulate the dynamic traffic. The host and ther other agents are not trained in this sort of multiagent environment yet, This \n",
    "is just pure single agent prediction in multi-agent environment. Hence the performance may not seem great, but will still go on to show how well it generalizes. The next few obvious steps are\n",
    "A) Training HV agent in multi agent framework (with other agents being static policies)\n",
    "B) Self play\n",
    "\n",
    "![](img/MultiAgentPPO2.gif)\n",
    "\n",
    "Another environment I have started working on is a parking lot env. This is quite different than the structured environment(s). Please see the architecture difference between them as depicted by the flow diagram. \n",
    "\n",
    "![RLarchitecture](img/RLarchitecture.png)\n",
    "\n",
    "The parking lot env is a goal oriented env, with virtual vehicles constraining the lot borders. The action space is continuous steering and  acceleration commands, while the observation space involves \n",
    "{ \"desired goals\", \"constraints\" , \"observed vehicles\"}. Currently I don't have any other vehicles as part of this environment. Currently only one goal spot is selected (marked as white) . The agent can only see N (=10) closest vehicles (marked as green). There might be additional parked vehicles in the lot that it can't see (marked as grey).\n",
    "\n",
    "![](img/ParkingLotFull.gif)\n",
    "\n",
    "There is a recent update where I have started using LGSVL simulator (https://www.lgsvlsimulator.com/docs/autoware-instructions/) for  more realistic environment. Right now the simulator is just being used for playback, while the pygame env is used for both training and playback. \n",
    "One more important point is the following environment is also using multiple goals. \n",
    "\n",
    "![](img/LGSimParkigLot.gif)\n",
    "\n",
    "\n",
    "## Getting Started (Docker)\n",
    "0) This code requires (Don't install anything yet):\n",
    "\n",
    "   * Python 3\n",
    "   * OpenAI Gym (https://github.com/openai/gym)\n",
    "   * OpenAI Baselines (https://github.com/openai/baselines)\n",
    "   * RLLIB (https://ray.readthedocs.io/en/latest/rllib.html)\n",
    "\n",
    "1) **Docker Installation**\n",
    "   1) For a clean and encapsulated installation we will use Docker. Follow the instructions on https://docs.docker.com/install/linux/docker-ce/ubuntu/\n",
    "\n",
    "1) Clone this repository and make sure you include the openai baselines submodules by typing the following command"
   ]
  },
  {
   "cell_type": "code",
   "execution_count": 1,
   "metadata": {},
   "outputs": [
    {
     "name": "stderr",
     "output_type": "stream",
     "text": [
      "Cloning into 'BehaviorRL'...\n"
     ]
    }
   ],
   "source": [
    "%%bash\n",
    "git clone  https://github.com/pinakigupta/BehaviorRL.git"
   ]
  },
  {
   "cell_type": "code",
   "execution_count": 2,
   "metadata": {},
   "outputs": [
    {
     "data": {
      "text/plain": [
       "'/home/pinakigupta/Documents/DockerContext/rl_baselines_ad'"
      ]
     },
     "execution_count": 2,
     "metadata": {},
     "output_type": "execute_result"
    }
   ],
   "source": [
    "pwd"
   ]
  },
  {
   "cell_type": "markdown",
   "metadata": {},
   "source": [
    "2) Navigate to the folder where you cloned this repo."
   ]
  },
  {
   "cell_type": "code",
   "execution_count": null,
   "metadata": {},
   "outputs": [],
   "source": [
    "%%bash\n",
    "   cd BehaviorRL"
   ]
  },
  {
   "cell_type": "markdown",
   "metadata": {},
   "source": [
    "3) Run the following command to build the Docker image. This wil take some time, be patient!"
   ]
  },
  {
   "cell_type": "code",
   "execution_count": null,
   "metadata": {},
   "outputs": [],
   "source": [
    "%%bash\n",
    "docker build -t pinakigupta/rl_baselines dockerfiles/"
   ]
  },
  {
   "cell_type": "markdown",
   "metadata": {},
   "source": [
    "Alternatively you can pull the latest docker image from my public repo on docker hub."
   ]
  },
  {
   "cell_type": "code",
   "execution_count": null,
   "metadata": {},
   "outputs": [],
   "source": [
    "%%bash\n",
    "docker pull pinakigupta/rl_baselines "
   ]
  },
  {
   "cell_type": "markdown",
   "metadata": {},
   "source": [
    "4) Run the following command to start the Docker. Make sure you can run it by make it executable:"
   ]
  },
  {
   "cell_type": "code",
   "execution_count": null,
   "metadata": {},
   "outputs": [],
   "source": [
    "%%bash\n",
    "chmod +x dockerfiles/docker-start.sh\n",
    "dockerfiles/docker-start.sh"
   ]
  },
  {
   "cell_type": "markdown",
   "metadata": {},
   "source": [
    "This will launch a docker container named \"ray_docker_local\". You can change the container name in the docker-start.sh script.\n",
    "Additional disclaimer!!! This step will also try to copy your aws credentials from .aws and .ssh folders presuming they are located in the ~/ directory.\n",
    "This step is important to be able to launch a cluster on the aws cloud from your docker container. \n",
    "If you have ray (or any similar 3rd party cloud compute package) installed on your local machine you may not need to launch compute clusters from the docker container.\n",
    "But launching it from the docker container is easy, no local installation required and gurantees version compatibility. \n",
    "\n",
    "5) If everything went ok, you should see something like this: \n",
    "![Inside docker](img/DockerStart.png)\n",
    "\n",
    "6) Run the following command to install openai gym and all the required libraries to run. This step additionally moves the aws credentials to docker ~/ and assigns root\n",
    "uid/gid to the credential files."
   ]
  },
  {
   "cell_type": "code",
   "execution_count": null,
   "metadata": {},
   "outputs": [],
   "source": [
    "%%bash\n",
    "cd rl_baselines_ad\n",
    "dockerfiles/docker-ini-script.sh"
   ]
  },
  {
   "cell_type": "markdown",
   "metadata": {},
   "source": [
    "# RLLIB/RAY\n",
    "**raylibs.py** script contains two main methods ray_train(...) and ray_play() along with helper methods. \n",
    "For details about using ray visit https://ray.readthedocs.io/en/latest/rllib.html\n",
    "\n",
    "## How to Run on local machine\n",
    "\n",
    "On the command prompt run:"
   ]
  },
  {
   "cell_type": "code",
   "execution_count": null,
   "metadata": {},
   "outputs": [],
   "source": [
    "%%bash\n",
    "python baselines_run.py\n",
    "python baselines_run.py  predict=True (To run only prediction)\n",
    "python baselines_run.py  predict=False (To run only training)"
   ]
  },
  {
   "cell_type": "markdown",
   "metadata": {},
   "source": [
    "OR"
   ]
  },
  {
   "cell_type": "code",
   "execution_count": null,
   "metadata": {},
   "outputs": [],
   "source": [
    "%%bash\n",
    "./run_baseline.sh"
   ]
  },
  {
   "cell_type": "markdown",
   "metadata": {},
   "source": [
    "![](img/ray_arch_local.png)\n",
    "\n",
    "During training on the local machine the main steps as described in the above figure are,\n",
    "\n",
    "1) Launch the ray_docker_local container using image from docker hub (or using local volume dockerfile).  \n",
    "2) Attach the local volume containing code (actually this happens within step 1 as we launch the container).  \n",
    "3) Sync code with github (optional).  \n",
    "4) Run training code with ray APIs. In the background ray is rolling out workers parallely, with each worker interacting with one or multiple environments (as specified in the ray\n",
    "API configs.  \n",
    "5) Once training is complete the trained models and other results are saved in the attached volume.\n",
    "\n",
    "\n",
    "## How to Run on aws cluster\n",
    "\n",
    "Run the following command to  \n",
    "    &nbsp;&nbsp;&nbsp;&nbsp;a) launch cluster in aws (cluster parameters can be changed in Ray-Cluster.yaml file). In aws cluster HEAD node a docker container \"ray docker\" will be launched.  \n",
    "    &nbsp;&nbsp;&nbsp;&nbsp;b)launches the main script within the ray_docker container (which uses the cluster WORKER nodes, and auto scales/descales according to compute need). This step \n",
    "    runs the ./run_baseline.sh script on the HEAD node docker  \n",
    "    &nbsp;&nbsp;&nbsp;&nbsp;c)copies result files to the local machine (using script ray_sync.sh).  \n",
    "    &nbsp;&nbsp;&nbsp;&nbsp;d)deletes the cluster in aws(this process is sometimes buggy. If cluster is not down type manually \"ray down Ray-Cluster.yaml\" to shutdown the cluster)"
   ]
  },
  {
   "cell_type": "code",
   "execution_count": null,
   "metadata": {},
   "outputs": [],
   "source": [
    "%%bash\n",
    "bash ray_cluster_launch.sh"
   ]
  },
  {
   "cell_type": "markdown",
   "metadata": {},
   "source": [
    "### Ray cluster setup\n",
    "Please vist https://ray.readthedocs.io/en/latest/autoscaling.html for details on setting up ray for aws cluster. Specifically the user will need to replace the following fields in \n",
    "    Ray-Cluster.yaml."
   ]
  },
  {
   "cell_type": "code",
   "execution_count": null,
   "metadata": {},
   "outputs": [],
   "source": [
    "%%bash\n",
    "ssh_private_key: ~/.ssh/KEY-Pinaki.Gupta.pem # replace with your own private key\n",
    "KeyName: KEY-Pinaki.Gupta #replace with your own key name\n",
    "- --volume **/mnt/datastore/groups/behavior/Pinaki/rl_baselines/rl_baselines_ad**:/rl_baselines_ad \n",
    "# replace the aws mount volume location with your own mount location. "
   ]
  },
  {
   "cell_type": "markdown",
   "metadata": {},
   "source": [
    "![](img/ray_arch_cloud_cluster.png)\n",
    "\n",
    "Training on the cloud cluster process is more complicated than running on local machine. Although there are several variants of this process, only the fully automated process is described\n",
    "here, which is also the most exhaustive.\n",
    "\n",
    "1) Launch the ray_docker_local container using image from docker hub (or using local volume dockerfile). Now in this case the local machine can be a remote server or even another aws (persistent) \n",
    "compute node.  \n",
    "2) Attach the local volume (actually this happens within step 1 as we launch the container).  The actual python code will be present in the local volume, but it will not be used yet.  \n",
    "3) Launch the ray cluster(aws compute nodes of master and workers) using the cluster launch scripts.  \n",
    "4) Cluster launch scripts downloads the appropriate docker image from docker hub.  \n",
    "5) Cluster launch scripts also downloads the appropriate code version from github (it searched for the same branch and HEAD commit sha as the launcher script finds in the local volume. So \n",
    "it is better for them to be synced). At this step we will also download any dependencies from github (like fresh commits from open AI baselines).  \n",
    "6) With the cluster set up, training code with the Ray APIs automatically launch parallel workers across the master and worker compute nodes, within the docker environment. You can imagine \n",
    "at this point the master + worker(s) to be one single compute node/machine on which we are running our ray_docker. Additonally during training the ray APIs can auto scale up/down as per compute need.\n",
    "7) A persistent EFS drive is mounted on the docker container to save useful results. Once the training is complete trained model/results are saved from the docker container folders to this persistent drive.\n",
    "8) Models/Results are then copied to the local volume and the cloud cluster is destroyed.\n",
    "\n",
    "\n",
    "\n",
    "## Training configurations\n",
    "\n",
    "Training can be done using ray Experiment API or ray tune API. Both examples have been provided in the ray_train(...) method with the ray tune API be the active choice. This \n",
    "is because tune builds on Experiment and allows hyper parameter tuning.  \n",
    "    &nbsp;&nbsp;algo = \"PPO\" # RL Algorithm of choice  \n",
    "    &nbsp;&nbsp;LOAD_MODEL_FOLDER = \"20190828-201729\" # Location of previous model (if needed) for training  \n",
    "    &nbsp;&nbsp;RESTORE_COND = \"NONE\" # RESTORE: Use a previous model to start new training  \n",
    "    &emsp;&emsp;&emsp;&emsp;&emsp;&emsp;&emsp;&emsp;&emsp;&emsp;&emsp;&emsp;&emsp;&emsp;# RESTORE_AND_RESUME: Use a previous model to finish previous unfinished training  \n",
    "    &emsp;&emsp;&emsp;&emsp;&emsp;&emsp;&emsp;&emsp;&emsp;&emsp;&emsp;&emsp;&emsp;&emsp;# NONE: Start fresh  \n",
    "    Also the following config options are self explanatory"
   ]
  },
  {
   "cell_type": "code",
   "execution_count": null,
   "metadata": {},
   "outputs": [],
   "source": [
    "%%bash\n",
    "                \"config\": {\n",
    "                    \"num_gpus_per_worker\": 0,\n",
    "                    #\"num_cpus_per_worker\": 1,\n",
    "                    # \"gpus\": 0,\n",
    "                    \"gamma\": 0.85,\n",
    "                    \"num_workers\": delegated_cpus,\n",
    "                    \"num_envs_per_worker\": 2,\n",
    "                    \"env\": train_env_id,\n",
    "                    \"remote_worker_envs\": False,\n",
    "                    \"model\": {\n",
    "                                #    \"use_lstm\": True,\n",
    "                                    \"fcnet_hiddens\": [256, 256, 256],\n",
    "                            },\n",
    "                     }   \n",
    "```   \n",
    "## Prediction configurations\n",
    "Prediction is using the ray_play() method defined  in raylibs.py. As it stands most configurations are directly extracted from the save model. So the only config parameter provided is the \n",
    "model folder lcoation.  \n",
    "LOAD_MODEL_FOLDER = \"20190903-200633\" # Location of previous model for prediction.  \n",
    "Unfortunately manually comment the assertion step as there seems to be one extra parameter between the saved and the actual model in tf_utils.py\n",
    "```bash\n",
    "#assert len(vector) == i, \"Passed weight does not have the correct shape.\"\n",
    "# \n",
    "```   \n",
    "\n",
    "\n",
    "## Hyperparameter Tuning\n",
    "Ray tune API provides configuration choices for hyper parameter tuning. For details please visit https://ray.readthedocs.io/en/latest/tune.html  \n",
    "For using the current setup following lines can be  unhighlghted to get a population based training schedular. \n",
    "\n",
    "```bash\n",
    "            # scheduler=pbt,\n",
    "            # trial_executor=RayTrialExecutor(),\n",
    "            # resources_per_trial={\"cpu\": delegated_cpus, \"gpu\": 0},\n",
    "\n",
    "                    # Following are some params to be tuned\n",
    "            \n",
    "                    # These params are tuned from a fixed starting value.\n",
    "                    # \"lambda\": 0.95,\n",
    "                    # \"clip_param\": 0.2,\n",
    "                    # \"lr\": 1e-4,\n",
    "                    \n",
    "                    # These params start off randomly drawn from a set.\n",
    "                    # \"num_sgd_iter\": sample_from(lambda spec: random.choice([10, 20, 30])),\n",
    "                    # \"sgd_minibatch_size\": sample_from(lambda spec: random.choice([128, 512, 2048])),\n",
    "                    # \"train_batch_size\": sample_from(lambda spec: random.choice([10000, 20000, 40000])),\n",
    "```   \n",
    "\n",
    "\n",
    "## Benchmark Results\n",
    "By default the training results will be placed on\n",
    "\n",
    "**./ray_results/\"%Y%m%d-%H%M%S\"/...**\n",
    "\n",
    "# OPEN AI BASELINES\n",
    "**baselines_run.py** script uses **2** clear defined sections to setup all the main OpenAI Baselines arguments.\n",
    "```python\n",
    "    ###############################################################\n",
    "    #        DEFINE YOUR \"BASELINE\" (AGENT) PARAMETERS HERE       \n",
    "    ###############################################################\n",
    "    train_env_id =  'merge-v0'\n",
    "    play_env_id = ''\n",
    "    alg = 'ppo2'\n",
    "    network = 'mlp'\n",
    "    num_timesteps = '1e4'\n",
    "    load_file_name = '20190511-121635' # 'merge-v0'    \n",
    "    #################################################################        "
   ]
  },
  {
   "cell_type": "markdown",
   "metadata": {},
   "source": [
    "**settings.py** is used to specify the folders where all the training logs and final/trained agent weights will be saved to. \n",
    "\n",
    "## Hyperparameter Tuning\n",
    "Check OpenAI Baselines for more information on how to change their default hyperparameters. This will let you specify a set of hyperparameters to test different from the default ones.\n",
    "\n",
    "## Benchmark Results\n",
    "By default the training results will be placed on\n",
    "\n",
    "**./run/models/\"algorithm\"/\"network\"**\n",
    "\n",
    "### A2C\n",
    "To reproduce my results, run ***baselines_run.py*** use the following setup:"
   ]
  },
  {
   "cell_type": "code",
   "execution_count": null,
   "metadata": {},
   "outputs": [],
   "source": [
    "    ##########################################################\n",
    "    #            DEFINE YOUR \"BASELINES\" PARAMETERS HERE \n",
    "    ##########################################################\n",
    "    train_env_id =  'merge-v0'\n",
    "    play_env_id = ''\n",
    "    alg = 'a2c'\n",
    "    network = 'mlp'\n",
    "    num_timesteps = '1e4'\n",
    "    load_file_name = '20190511-121635' # 'merge-v0' \n",
    "    ##########################################################\n",
    "        "
   ]
  },
  {
   "cell_type": "markdown",
   "metadata": {},
   "source": [
    "#### NOTE: \n",
    "1) If you run it for the first time, make sure to comment out the loading path argument (see below), since you don't have any initial weights to load.\n",
    "2) If you want to use the \"default\" network (mlp) you can comment out the \"--network\" argument (see below)\n",
    "3) logger_path will only work with some of the OpenAI baseline algorithms. If you chose one algortihm and it throws you an error regarding the \"logger\" just comment out the argument (see below)\n",
    "4) For more information about what these arguments do and if there are more arguments that you can add to \"tune\" your agent, please refer to OpenAI baselines README.MD files for the algorithm/agent you are using."
   ]
  },
  {
   "cell_type": "code",
   "execution_count": null,
   "metadata": {},
   "outputs": [],
   "source": [
    "DEFAULT_ARGUMENTS = [\n",
    "        '--env=' + env,\n",
    "        '--alg=' + alg,\n",
    "    #    '--network=' + network,\n",
    "        '--num_timesteps=' + num_timesteps,    \n",
    "    #    '--num_env=0',\n",
    "        '--save_path=' + save_file,\n",
    "    #    '--load_path=' + load_path,\n",
    "    #    '--logger_path=' + logger_path,\n",
    "        '--play'\n",
    "    ]"
   ]
  },
  {
   "cell_type": "markdown",
   "metadata": {},
   "source": [
    "#### NOTE:\n",
    "1) To know which algorithms you can use, simply take a look at the /open_ai_baselines/baselines folder.\n",
    "2) Some algorithms will fail since are NOT suited for your problem. For example, DDPG was implemented for discrete actions spaces and will not take a \"BOX\" as an action space. Try the one you are interested in and find out why it will not run. Sometimes it will take just a few changes and other times, as metioned before, it might not even be meant for this type of problem. \n",
    "\n",
    "Note: \"Save path\" does not work on DDPG unless you add to the ddpg class the following:"
   ]
  },
  {
   "cell_type": "code",
   "execution_count": null,
   "metadata": {},
   "outputs": [],
   "source": [
    "from baselines.common import tf_util\n",
    "\n",
    "def save(self, save_path):\n",
    "\n",
    "​        tf_util.save_variables(save_path)"
   ]
  },
  {
   "cell_type": "markdown",
   "metadata": {},
   "source": [
    "Comment the lines on DEFAULT_ARGUMENTS as shown below if you want to skip certain parameters"
   ]
  },
  {
   "cell_type": "code",
   "execution_count": null,
   "metadata": {},
   "outputs": [],
   "source": [
    "DEFAULT_ARGUMENTS = [\n",
    "​        '--env=' + env,\n",
    "​        '--alg=' + alg,\n",
    "​    #    '--network=' + network,\n",
    "​        '--num_timesteps=' + num_timesteps,    \n",
    "​    #    '--num_env=0',\n",
    "​        '--save_path=' + save_file,\n",
    "​    #    '--load_path=' + load_path,\n",
    "​        '--logger_path=' + logger_path,\n",
    "​        '--play'\n",
    "​    ]"
   ]
  },
  {
   "cell_type": "markdown",
   "metadata": {},
   "source": [
    "if you have a s3 Drive mounted uncomment the s3pathname with the full path to the mounted drive. The load model method would automatically prioritize this path.\n",
    "\n",
    "\n",
    "## How to Run\n",
    "\n",
    "On the command prompt run:"
   ]
  },
  {
   "cell_type": "code",
   "execution_count": null,
   "metadata": {},
   "outputs": [],
   "source": [
    "%%bash\n",
    "python baselines_run.py \n",
    "python baselines_run.py  predict=True (To run only prediction)\n",
    "python baselines_run.py  predict=False (To run only training)"
   ]
  },
  {
   "cell_type": "markdown",
   "metadata": {},
   "source": [
    "OR \n",
    "\n",
    "```bash\n",
    "./run_baseline.sh 70 (= number of workers/environments you want to parallely process. The parallelization uses MPI calls, which the baseline code supports)\n",
    "```bash"
   ]
  }
 ],
 "metadata": {
  "kernelspec": {
   "display_name": "Python 3",
   "language": "python",
   "name": "python3"
  },
  "language_info": {
   "codemirror_mode": {
    "name": "ipython",
    "version": 3
   },
   "file_extension": ".py",
   "mimetype": "text/x-python",
   "name": "python",
   "nbconvert_exporter": "python",
   "pygments_lexer": "ipython3",
   "version": "3.6.5"
  }
 },
 "nbformat": 4,
 "nbformat_minor": 2
}
